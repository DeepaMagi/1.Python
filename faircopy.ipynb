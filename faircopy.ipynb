{
 "cells": [
  {
   "cell_type": "code",
   "execution_count": 8,
   "id": "0f959737",
   "metadata": {},
   "outputs": [],
   "source": [
    "from newmultiple import MultipleFunctions"
   ]
  },
  {
   "cell_type": "code",
   "execution_count": 10,
   "id": "96a2e8fb",
   "metadata": {},
   "outputs": [
    {
     "name": "stdout",
     "output_type": "stream",
     "text": [
      "Machine Learning\n",
      "Neural Networks\n",
      "Computer Vision\n",
      "Robotics\n",
      "Speech Processing\n",
      "Natural Language Processing\n"
     ]
    }
   ],
   "source": [
    "MultipleFunctions.Subfields()"
   ]
  },
  {
   "cell_type": "code",
   "execution_count": 12,
   "id": "2bea6287",
   "metadata": {},
   "outputs": [
    {
     "name": "stdout",
     "output_type": "stream",
     "text": [
      "Enter a number:54234\n",
      "54234 is even\n"
     ]
    }
   ],
   "source": [
    "MultipleFunctions.oddEven()"
   ]
  },
  {
   "cell_type": "code",
   "execution_count": 14,
   "id": "5f8bc04c",
   "metadata": {},
   "outputs": [
    {
     "name": "stdout",
     "output_type": "stream",
     "text": [
      "Your Gender: Female\n",
      "Your age: 23\n",
      "Eliglble for Marriage\n"
     ]
    }
   ],
   "source": [
    "MultipleFunctions.Eligible()"
   ]
  },
  {
   "cell_type": "code",
   "execution_count": 15,
   "id": "900ff374",
   "metadata": {},
   "outputs": [
    {
     "name": "stdout",
     "output_type": "stream",
     "text": [
      "98\n",
      "87\n",
      "95\n",
      "95\n",
      "93\n",
      "Total:  468\n",
      "Percentage: 93.6\n"
     ]
    }
   ],
   "source": [
    "MultipleFunctions.percentage(98,87,95,95,93)"
   ]
  },
  {
   "cell_type": "code",
   "execution_count": 16,
   "id": "324e2741",
   "metadata": {},
   "outputs": [
    {
     "name": "stdout",
     "output_type": "stream",
     "text": [
      "Area of a triangle: 544.0\n",
      "Perimeter of triangle: 10\n"
     ]
    }
   ],
   "source": [
    "MultipleFunctions.triangle1(32,34)\n",
    "MultipleFunctions.triangle2(2,4,4)"
   ]
  }
 ],
 "metadata": {
  "kernelspec": {
   "display_name": "Python 3 (ipykernel)",
   "language": "python",
   "name": "python3"
  },
  "language_info": {
   "codemirror_mode": {
    "name": "ipython",
    "version": 3
   },
   "file_extension": ".py",
   "mimetype": "text/x-python",
   "name": "python",
   "nbconvert_exporter": "python",
   "pygments_lexer": "ipython3",
   "version": "3.11.5"
  }
 },
 "nbformat": 4,
 "nbformat_minor": 5
}
