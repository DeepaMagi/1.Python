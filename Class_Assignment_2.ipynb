{
 "cells": [
  {
   "cell_type": "code",
   "execution_count": 2,
   "id": "29998c24",
   "metadata": {},
   "outputs": [],
   "source": [
    "class MultipleFunctions:\n",
    "    #Dispaying different fields\n",
    "    def Subfields():\n",
    "        list=['Machine Learning','Neural Networks','Computer Vision','Robotics','Speech Processing','Natural Language Processing']\n",
    "        for i in list:\n",
    "            print(i)\n",
    "            \n",
    "    #Finding Even and Odd number\n",
    "    def oddEven():\n",
    "        number=int(input(\"Enter a number:\"))\n",
    "        if(number%2==0):\n",
    "            print(number,\"is even\")\n",
    "        else:\n",
    "            print(number, \"is odd\")\n",
    "        \n",
    "    #Checking for eligibility for marriage\n",
    "    def Eligible():\n",
    "        gender=input(\"Your Gender: \")\n",
    "        age=int(input(\"Your age: \"))\n",
    "        if((gender==\"Female\") and (age>=18) or(gender==\"Male\") and (age>=21)):\n",
    "            print(\"Eliglble for Marriage\")\n",
    "        else:\n",
    "            print(\"Not Eligible for Marriage\")\n",
    "            \n",
    "    #Finding percentage of 10th marklist\n",
    "    def percentage(subject1,subject2,subject3,subject4,subject5):\n",
    "        total=(subject1+subject2+subject3+subject4+subject5)\n",
    "        average=total/5\n",
    "        lst=[subject1,subject2,subject3,subject4,subject5]                   \n",
    "        for x in lst:            \n",
    "            print(x)\n",
    "        print(\"Total: \",total)\n",
    "        print(\"Percentage:\",average)\n",
    "        \n",
    "    #Finding Area and perimeter for two different triangles    \n",
    "    def triangle1(height,breadth):\n",
    "        print(\"Area of a triangle:\",(height*breadth)/2)\n",
    "    def triangle2(height1,height2,breadth):\n",
    "        print(\"Perimeter of triangle:\",(height1+height2)+breadth)\n",
    "    "
   ]
  },
  {
   "cell_type": "code",
   "execution_count": 3,
   "id": "d96a430a",
   "metadata": {},
   "outputs": [
    {
     "name": "stdout",
     "output_type": "stream",
     "text": [
      "Machine Learning\n",
      "Neural Networks\n",
      "Computer Vision\n",
      "Robotics\n",
      "Speech Processing\n",
      "Natural Language Processing\n"
     ]
    }
   ],
   "source": [
    "MultipleFunctions.Subfields()"
   ]
  },
  {
   "cell_type": "code",
   "execution_count": 4,
   "id": "4b51feff",
   "metadata": {},
   "outputs": [
    {
     "name": "stdout",
     "output_type": "stream",
     "text": [
      "Enter a number:1234\n",
      "1234 is even\n"
     ]
    }
   ],
   "source": [
    "MultipleFunctions.oddEven()"
   ]
  },
  {
   "cell_type": "code",
   "execution_count": 5,
   "id": "6d4ef3ca",
   "metadata": {},
   "outputs": [
    {
     "name": "stdout",
     "output_type": "stream",
     "text": [
      "Your Gender: Female\n",
      "Your age: 23\n",
      "Eliglble for Marriage\n"
     ]
    }
   ],
   "source": [
    "MultipleFunctions.Eligible()"
   ]
  },
  {
   "cell_type": "code",
   "execution_count": 6,
   "id": "e5c9dc27",
   "metadata": {},
   "outputs": [
    {
     "name": "stdout",
     "output_type": "stream",
     "text": [
      "98\n",
      "87\n",
      "95\n",
      "95\n",
      "93\n",
      "Total:  468\n",
      "Percentage: 93.6\n"
     ]
    }
   ],
   "source": [
    "MultipleFunctions.percentage(98,87,95,95,93)"
   ]
  },
  {
   "cell_type": "code",
   "execution_count": 7,
   "id": "e2da0fe5",
   "metadata": {},
   "outputs": [
    {
     "name": "stdout",
     "output_type": "stream",
     "text": [
      "Area of a triangle: 544.0\n",
      "Perimeter of triangle: 10\n"
     ]
    }
   ],
   "source": [
    "MultipleFunctions.triangle1(32,34)\n",
    "MultipleFunctions.triangle2(2,4,4)"
   ]
  }
 ],
 "metadata": {
  "kernelspec": {
   "display_name": "Python 3 (ipykernel)",
   "language": "python",
   "name": "python3"
  },
  "language_info": {
   "codemirror_mode": {
    "name": "ipython",
    "version": 3
   },
   "file_extension": ".py",
   "mimetype": "text/x-python",
   "name": "python",
   "nbconvert_exporter": "python",
   "pygments_lexer": "ipython3",
   "version": "3.11.5"
  }
 },
 "nbformat": 4,
 "nbformat_minor": 5
}
