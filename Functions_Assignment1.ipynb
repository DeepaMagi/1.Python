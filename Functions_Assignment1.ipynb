{
 "cells": [
  {
   "cell_type": "code",
   "execution_count": 4,
   "id": "21b35f49",
   "metadata": {},
   "outputs": [],
   "source": [
    "class SubfieldsInAI:\n",
    "    def Subfields():\n",
    "        list=['Machine Learning','Neural Networks','Computer Vision','Robotics','Speech Processing','Natural Language Processing']\n",
    "        for i in list:\n",
    "            print(i)"
   ]
  },
  {
   "cell_type": "code",
   "execution_count": 5,
   "id": "bcee5f48",
   "metadata": {},
   "outputs": [
    {
     "name": "stdout",
     "output_type": "stream",
     "text": [
      "Machine Learning\n",
      "Neural Networks\n",
      "Computer Vision\n",
      "Robotics\n",
      "Speech Processing\n",
      "Natural Language Processing\n"
     ]
    }
   ],
   "source": [
    "SubfieldsInAI.Subfields()"
   ]
  },
  {
   "cell_type": "code",
   "execution_count": null,
   "id": "8565f0e5",
   "metadata": {},
   "outputs": [],
   "source": [
    "#Check whether the number is even or odd"
   ]
  },
  {
   "cell_type": "code",
   "execution_count": 6,
   "id": "c793311e",
   "metadata": {},
   "outputs": [],
   "source": [
    "def oddEven():\n",
    "    number=int(input(\"Enter a number:\"))\n",
    "    if(number%2==0):\n",
    "        print(number,\"is even\")\n",
    "    else:\n",
    "        print(number, \"is odd\")"
   ]
  },
  {
   "cell_type": "code",
   "execution_count": 7,
   "id": "51ab168b",
   "metadata": {},
   "outputs": [
    {
     "name": "stdout",
     "output_type": "stream",
     "text": [
      "Enter a number:52452\n",
      "52452 is even\n"
     ]
    }
   ],
   "source": [
    "oddEven()"
   ]
  },
  {
   "cell_type": "code",
   "execution_count": null,
   "id": "c8d65533",
   "metadata": {},
   "outputs": [],
   "source": [
    "#Check the eligibility for Marraige"
   ]
  },
  {
   "cell_type": "code",
   "execution_count": 20,
   "id": "01345fd3",
   "metadata": {},
   "outputs": [],
   "source": [
    "class EligibilityForMarriage:\n",
    "    def Eligible():\n",
    "        gender=input(\"Your Gender: \")\n",
    "        age=int(input(\"Your age: \"))\n",
    "        if((gender==\"Female\") and (age>=18) or(gender==\"Male\") and (age>=21)):\n",
    "            print(\"Eliglble for Marriage\")\n",
    "        else:\n",
    "            print(\"Not Eligible for Marriage\")\n",
    "            "
   ]
  },
  {
   "cell_type": "code",
   "execution_count": 24,
   "id": "f426b09b",
   "metadata": {},
   "outputs": [
    {
     "name": "stdout",
     "output_type": "stream",
     "text": [
      "Your Gender: Male\n",
      "Your age: 20\n",
      "Not Eligible for Marriage\n"
     ]
    }
   ],
   "source": [
    "EligibilityForMarriage.Eligible()"
   ]
  },
  {
   "cell_type": "code",
   "execution_count": null,
   "id": "43eebcd6",
   "metadata": {},
   "outputs": [],
   "source": [
    "#Calculate your percentage in 10th marksheet"
   ]
  },
  {
   "cell_type": "code",
   "execution_count": 56,
   "id": "0e8ca9bb",
   "metadata": {},
   "outputs": [],
   "source": [
    "class findPercent:\n",
    "    def percentage(subject1,subject2,subject3,subject4,subject5):\n",
    "        total=(subject1+subject2+subject3+subject4+subject5)\n",
    "        average=total/5\n",
    "        lst=[subject1,subject2,subject3,subject4,subject5]                   \n",
    "        for x in lst:            \n",
    "            print(x)\n",
    "        print(\"Total: \",total)\n",
    "        print(\"Percentage:\",average)\n",
    "        "
   ]
  },
  {
   "cell_type": "code",
   "execution_count": 57,
   "id": "f34262ae",
   "metadata": {},
   "outputs": [
    {
     "name": "stdout",
     "output_type": "stream",
     "text": [
      "98\n",
      "87\n",
      "95\n",
      "95\n",
      "93\n",
      "Total:  468\n",
      "Percentage: 93.6\n"
     ]
    }
   ],
   "source": [
    "findPercent.percentage(98,87,95,95,93)"
   ]
  },
  {
   "cell_type": "code",
   "execution_count": 60,
   "id": "074c800e",
   "metadata": {},
   "outputs": [],
   "source": [
    "class triangle:\n",
    "    def triangle1(height,breadth):\n",
    "        print(\"Area of a triangle:\",(height*breadth)/2)\n",
    "    def triangle2(height1,height2,breadth):\n",
    "        print(\"Perimeter of triangle:\",(height1+height2)+breadth)\n",
    "    \n",
    "        \n",
    "        "
   ]
  },
  {
   "cell_type": "code",
   "execution_count": 62,
   "id": "24e7d11f",
   "metadata": {},
   "outputs": [
    {
     "name": "stdout",
     "output_type": "stream",
     "text": [
      "Area of a triangle: 544.0\n",
      "Perimeter of triangle: 10\n"
     ]
    }
   ],
   "source": [
    "triangle.triangle1(32,34)\n",
    "triangle.triangle2(2,4,4)"
   ]
  }
 ],
 "metadata": {
  "kernelspec": {
   "display_name": "Python 3 (ipykernel)",
   "language": "python",
   "name": "python3"
  },
  "language_info": {
   "codemirror_mode": {
    "name": "ipython",
    "version": 3
   },
   "file_extension": ".py",
   "mimetype": "text/x-python",
   "name": "python",
   "nbconvert_exporter": "python",
   "pygments_lexer": "ipython3",
   "version": "3.11.5"
  }
 },
 "nbformat": 4,
 "nbformat_minor": 5
}
