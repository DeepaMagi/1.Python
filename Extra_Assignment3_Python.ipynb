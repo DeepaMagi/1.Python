{
 "cells": [
  {
   "cell_type": "code",
   "execution_count": 1,
   "id": "86a538c0",
   "metadata": {},
   "outputs": [
    {
     "name": "stdout",
     "output_type": "stream",
     "text": [
      "value: 10\n",
      "Correct\n"
     ]
    }
   ],
   "source": [
    "i=10\n",
    "print(\"value:\",i)\n",
    "if(i==10):\n",
    "    print(\"Correct\")"
   ]
  },
  {
   "cell_type": "code",
   "execution_count": 3,
   "id": "e561a60c",
   "metadata": {},
   "outputs": [
    {
     "name": "stdout",
     "output_type": "stream",
     "text": [
      "Enter the password:HOPE@123\n",
      "Password is correct\n"
     ]
    }
   ],
   "source": [
    "Pw=input(\"Enter the password:\")\n",
    "if (Pw==\"HOPE@123\"):\n",
    "    print(\"Password is correct\")\n",
    "else:\n",
    "    print(\"Password is Incorrect\")"
   ]
  },
  {
   "cell_type": "code",
   "execution_count": 4,
   "id": "b9edaa45",
   "metadata": {},
   "outputs": [
    {
     "name": "stdout",
     "output_type": "stream",
     "text": [
      "Enter the age:20\n",
      "Adult\n"
     ]
    }
   ],
   "source": [
    "age=int(input(\"Enter the age:\"))\n",
    "if(age<18):\n",
    "    print(\"Child\")\n",
    "elif(age<35):\n",
    "    print(\"Adult\")\n",
    "elif(age<69):\n",
    "    print(\"Citizen\")\n",
    "else:\n",
    "    print(\"Senior Citizen\")\n"
   ]
  },
  {
   "cell_type": "code",
   "execution_count": 6,
   "id": "2c839bcd",
   "metadata": {},
   "outputs": [
    {
     "name": "stdout",
     "output_type": "stream",
     "text": [
      "Enter an input:-12\n",
      "-12 is a negative number\n"
     ]
    }
   ],
   "source": [
    "number=int(input(\"Enter an input:\"))\n",
    "if(number>=0):\n",
    "    print(number, \"is a positive number\")\n",
    "else:\n",
    "    print(number, \"is a negative number\")"
   ]
  },
  {
   "cell_type": "code",
   "execution_count": 8,
   "id": "7ca8e21e",
   "metadata": {},
   "outputs": [
    {
     "name": "stdout",
     "output_type": "stream",
     "text": [
      "Enter a number to check:17\n",
      "17 is not divisible by 5\n"
     ]
    }
   ],
   "source": [
    "number_divby_5=int(input(\"Enter a number to check:\"))\n",
    "if(number_divby_5%5==0):\n",
    "    print(number_divby_5, \"is divisible by 5\")\n",
    "else:\n",
    "    print(number_divby_5, \"is not divisible by 5\")\n",
    "    "
   ]
  }
 ],
 "metadata": {
  "kernelspec": {
   "display_name": "Python 3 (ipykernel)",
   "language": "python",
   "name": "python3"
  },
  "language_info": {
   "codemirror_mode": {
    "name": "ipython",
    "version": 3
   },
   "file_extension": ".py",
   "mimetype": "text/x-python",
   "name": "python",
   "nbconvert_exporter": "python",
   "pygments_lexer": "ipython3",
   "version": "3.11.5"
  }
 },
 "nbformat": 4,
 "nbformat_minor": 5
}
