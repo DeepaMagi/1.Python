{
 "cells": [
  {
   "cell_type": "code",
   "execution_count": 1,
   "id": "72af1730",
   "metadata": {},
   "outputs": [
    {
     "name": "stdout",
     "output_type": "stream",
     "text": [
      "Welcome to Assignment-1\n"
     ]
    }
   ],
   "source": [
    "print(\"Welcome to Assignment-1\")"
   ]
  },
  {
   "cell_type": "code",
   "execution_count": 2,
   "id": "26302c87",
   "metadata": {},
   "outputs": [
    {
     "name": "stdout",
     "output_type": "stream",
     "text": [
      "Num1 = 10\n",
      "Num2 = 30\n",
      "Add = 40\n"
     ]
    }
   ],
   "source": [
    "num1=10\n",
    "num2=30\n",
    "add=num1+num2\n",
    "print(\"Num1 =\",num1)\n",
    "print(\"Num2 =\",num2)\n",
    "print(\"Add =\",add)\n"
   ]
  },
  {
   "cell_type": "code",
   "execution_count": null,
   "id": "01526404",
   "metadata": {},
   "outputs": [],
   "source": [
    "Underweight = <18.5\n",
    "Normal weight = 18.5–24.9\n",
    "Overweight = 25–29.9\n",
    "Obesity = BMI of 30 or greater"
   ]
  },
  {
   "cell_type": "code",
   "execution_count": 16,
   "id": "9f18945d",
   "metadata": {},
   "outputs": [
    {
     "name": "stdout",
     "output_type": "stream",
     "text": [
      "Enter the BMI Index:34.5\n",
      "Obesity\n"
     ]
    }
   ],
   "source": [
    "BMI=float(input(\"Enter the BMI Index:\"))\n",
    "if (BMI<18.5):\n",
    "    print(\"Underweight\")\n",
    "elif(BMI<=24.9):\n",
    "     print(\"Normal Weight\")\n",
    "elif(BMI<=29.9):\n",
    "     print(\"Overweight\")\n",
    "elif(BMI>=30):\n",
    "     print(\"Obesity\")\n",
    "else:\n",
    "     print(\"Invlaid Input\")\n",
    "     "
   ]
  },
  {
   "cell_type": "code",
   "execution_count": 17,
   "id": "fcd0e053",
   "metadata": {},
   "outputs": [
    {
     "name": "stdout",
     "output_type": "stream",
     "text": [
      "Enter the BMI Index:24.7\n",
      "Normal Weight\n"
     ]
    }
   ],
   "source": [
    "BMI=float(input(\"Enter the BMI Index:\"))\n",
    "if (BMI<18.5):\n",
    "    print(\"Underweight\")\n",
    "elif(BMI<=24.9):\n",
    "     print(\"Normal Weight\")\n",
    "elif(BMI<=29.9):\n",
    "     print(\"Overweight\")\n",
    "elif(BMI>=30):\n",
    "     print(\"Obesity\")\n",
    "else:\n",
    "     print(\"Invlaid Input\")\n",
    "     "
   ]
  },
  {
   "cell_type": "code",
   "execution_count": 18,
   "id": "61e81b1d",
   "metadata": {},
   "outputs": [
    {
     "name": "stdout",
     "output_type": "stream",
     "text": [
      "Enter the BMI Index:18\n",
      "Underweight\n"
     ]
    }
   ],
   "source": [
    "BMI=float(input(\"Enter the BMI Index:\"))\n",
    "if (BMI<18.5):\n",
    "    print(\"Underweight\")\n",
    "elif(BMI<=24.9):\n",
    "     print(\"Normal Weight\")\n",
    "elif(BMI<=29.9):\n",
    "     print(\"Overweight\")\n",
    "elif(BMI>=30):\n",
    "     print(\"Obesity\")\n",
    "else:\n",
    "     print(\"Invlaid Input\")\n",
    "     "
   ]
  }
 ],
 "metadata": {
  "kernelspec": {
   "display_name": "Python 3 (ipykernel)",
   "language": "python",
   "name": "python3"
  },
  "language_info": {
   "codemirror_mode": {
    "name": "ipython",
    "version": 3
   },
   "file_extension": ".py",
   "mimetype": "text/x-python",
   "name": "python",
   "nbconvert_exporter": "python",
   "pygments_lexer": "ipython3",
   "version": "3.11.5"
  }
 },
 "nbformat": 4,
 "nbformat_minor": 5
}
